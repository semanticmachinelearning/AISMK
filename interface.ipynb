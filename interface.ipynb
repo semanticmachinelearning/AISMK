{
 "cells": [
  {
   "cell_type": "code",
   "execution_count": 1,
   "id": "95001952",
   "metadata": {},
   "outputs": [],
   "source": [
    "import sys  \n",
    "import os\n",
    "sys.path.insert(0, '')\n",
    "import agent as ai\n",
    "from rdflib import Graph, Literal, RDF, URIRef\n",
    "# rdflib knows about quite a few popular namespaces, like W3C ontologies, schema.org etc.\n",
    "from rdflib.namespace import FOAF , XSD\n",
    "from rdflib.namespace import NamespaceManager"
   ]
  },
  {
   "cell_type": "code",
   "execution_count": 2,
   "id": "b7dda4e2",
   "metadata": {},
   "outputs": [],
   "source": [
    "ai.reset_knowledge()"
   ]
  },
  {
   "cell_type": "code",
   "execution_count": 3,
   "id": "2c924a74",
   "metadata": {},
   "outputs": [
    {
     "name": "stdout",
     "output_type": "stream",
     "text": [
      "Enter task name:task1\n",
      "taskname is: task1\n",
      "Enter data path:heart.csv\n",
      "data is: heart.csv\n",
      "Enter desire output:pipeline\n",
      "desire output is: pipeline\n",
      "Enter problem domain (optional):medical\n",
      "desire output is: medical\n",
      "Enter AI task category (optional):MLmodel_classification\n",
      "desire output is: MLmodel_classification\n",
      "Calling the agent to search a solution for you now...\n",
      "[]\n",
      "Searching for solution ...\n",
      "No input context has been find\n",
      "No output context has been find\n",
      "domain is not matched\n",
      "purpose is not matched\n",
      "No kwnoeldge at all, start to learn knowledge and expore the solution\n",
      "No microservice has been find\n",
      "############No single microservice is available, Composition start##############\n",
      "------------In while-----------\n",
      "Successfully imported loadnormalpddata microservice.\n",
      "No microservice has been find\n",
      "...\n",
      "------------In while-----------\n",
      "Successfully imported spliting microservice.\n",
      "find_match_paramenter---\n",
      "find_match_paramenter---\n",
      "------------In while-----------\n",
      "find_match_paramenter---\n",
      "find_match_paramenter---\n",
      "find_match_paramenter---\n",
      "Successfully imported pipelinemodels microservice.\n",
      "find_match_paramenter---\n",
      "There is no matched the service can take the last output as input\n",
      "Agent is working on combinations of all previous outputs to search a possible solution\n",
      "...continue searching solution...\n",
      "wow! find combination output -> input\n",
      "Successfully imported featuremodelevaluation microservice.\n",
      "-------end while-------\n",
      "############Composition sucessfully complete##############\n",
      "A solution is created to fully serves the task and match the purpose, see knowledge files for more detail.\n"
     ]
    }
   ],
   "source": [
    "taskname = input(\"Enter task name:\")\n",
    "print(\"taskname is: \" + taskname)\n",
    "\n",
    "data = input(\"Enter data path:\")\n",
    "print(\"data is: \" + data)\n",
    "\n",
    "desire = input(\"Enter desire output:\")\n",
    "print(\"desire output is: \" + desire)\n",
    "\n",
    "domain = input(\"Enter problem domain (optional):\")\n",
    "print(\"desire output is: \" + domain)\n",
    "\n",
    "category = input(\"Enter AI task category (optional):\")\n",
    "print(\"desire output is: \" + category)\n",
    "\n",
    "print('Calling the agent to search a solution for you now...')\n",
    "\n",
    "ai.output_memery={}\n",
    "ai.servicelist=[]\n",
    "\n",
    "value = ai.OperatingTask (taskname,data,[desire],domain,'',category)\n",
    "#'task1','heart.csv',['pipeline'],'medical','','MLmodel_classification'"
   ]
  },
  {
   "cell_type": "code",
   "execution_count": 3,
   "id": "5c911d6c",
   "metadata": {},
   "outputs": [
    {
     "name": "stdout",
     "output_type": "stream",
     "text": [
      "[]\n",
      "Searching for solution ...\n",
      "No input context has been find\n",
      "No output context has been find\n",
      "domain is not matched\n",
      "purpose is not matched\n",
      "No kwnoeldge at all, start to learn knowledge and expore the solution\n",
      "No microservice has been find\n",
      "############No single microservice is available, Composition start##############\n",
      "------------In while-----------\n",
      "Successfully imported loadnormalpddata microservice.\n",
      "No microservice has been find\n",
      "...\n",
      "------------In while-----------\n",
      "Successfully imported spliting microservice.\n",
      "find_match_paramenter---\n",
      "find_match_paramenter---\n",
      "------------In while-----------\n",
      "find_match_paramenter---\n",
      "find_match_paramenter---\n",
      "find_match_paramenter---\n",
      "Successfully imported pipelinemodels microservice.\n",
      "find_match_paramenter---\n",
      "There is no matched the service can take the last output as input\n",
      "Agent is working on combinations of all previous outputs to search a possible solution\n",
      "...continue searching solution...\n",
      "wow! find combination output -> input\n",
      "Successfully imported featuremodelevaluation microservice.\n",
      "-------end while-------\n",
      "############Composition sucessfully complete##############\n",
      "A solution is created to fully serves the task and match the purpose, see knowledge files for more detail.\n"
     ]
    }
   ],
   "source": [
    "ai.output_memery={}\n",
    "ai.servicelist=[]\n",
    "value1=ai.OperatingTask ('task1','heart.csv',['pipeline'],'medical','','MLmodel_classification')"
   ]
  },
  {
   "cell_type": "code",
   "execution_count": 5,
   "id": "ab68aa62",
   "metadata": {},
   "outputs": [
    {
     "data": {
      "text/plain": [
       "Pipeline(steps=[('columntransformer',\n",
       "                 ColumnTransformer(transformers=[('pipeline-1',\n",
       "                                                  Pipeline(steps=[('simpleimputer',\n",
       "                                                                   SimpleImputer(add_indicator=True,\n",
       "                                                                                 strategy='median')),\n",
       "                                                                  ('standardscaler',\n",
       "                                                                   StandardScaler())]),\n",
       "                                                  <sklearn.compose._column_transformer.make_column_selector object at 0x000001C6383A9940>),\n",
       "                                                 ('pipeline-2',\n",
       "                                                  Pipeline(steps=[('simpleimputer',\n",
       "                                                                   SimpleImputer(strategy='constant')),\n",
       "                                                                  ('onehotencoder',\n",
       "                                                                   OneHotEncoder(handle_unknown='ignore'))]),\n",
       "                                                  <sklearn.compose._column_transformer.make_column_selector object at 0x000001C6383A99A0>)])),\n",
       "                ('rfe',\n",
       "                 RFE(estimator=LogisticRegression(), n_features_to_select=8))])"
      ]
     },
     "execution_count": 5,
     "metadata": {},
     "output_type": "execute_result"
    }
   ],
   "source": [
    "value1[0]"
   ]
  },
  {
   "cell_type": "code",
   "execution_count": 6,
   "id": "41dc5475",
   "metadata": {},
   "outputs": [
    {
     "name": "stdout",
     "output_type": "stream",
     "text": [
      "[]\n",
      "Searching for solution ...\n",
      "Policy knowledge is found to apply transfor learning with the new data http://aimicroservice.derby.ac.uk/56105583-185c-4b49-87c7-23588fcb86e4\n",
      "doing transfer learning in context of  ['loadnormalpddata', 'spliting', 'pipelinemodels', 'featuremodelevaluation']\n",
      "1 1\n",
      "Successfully imported loadnormalpddata microservice.\n",
      "servicename: spliting\n",
      "1 1\n",
      "Successfully imported spliting microservice.\n",
      "servicename: pipelinemodels\n",
      "find_match_paramenter---\n",
      "Successfully imported pipelinemodels microservice.\n",
      "servicename: featuremodelevaluation\n",
      "find_match_paramenter---\n",
      "...continue searching solution...\n",
      "Successfully imported featuremodelevaluation microservice.\n"
     ]
    }
   ],
   "source": [
    "ai.output_memery={}\n",
    "ai.servicelist=[]\n",
    "value1=ai.OperatingTask ('task2','pkson.csv',['pipeline'],'medical','','MLmodel_classification')"
   ]
  },
  {
   "cell_type": "code",
   "execution_count": 6,
   "id": "0d086028",
   "metadata": {},
   "outputs": [
    {
     "data": {
      "text/plain": [
       "Pipeline(steps=[('columntransformer',\n",
       "                 ColumnTransformer(transformers=[('pipeline-1',\n",
       "                                                  Pipeline(steps=[('simpleimputer',\n",
       "                                                                   SimpleImputer(add_indicator=True,\n",
       "                                                                                 strategy='median')),\n",
       "                                                                  ('standardscaler',\n",
       "                                                                   StandardScaler())]),\n",
       "                                                  <sklearn.compose._column_transformer.make_column_selector object at 0x0000018212D2D1F0>),\n",
       "                                                 ('pipeline-2',\n",
       "                                                  Pipeline(steps=[('simpleimputer',\n",
       "                                                                   SimpleImputer(strategy='constant')),\n",
       "                                                                  ('onehotencoder',\n",
       "                                                                   OneHotEncoder(handle_unknown='ignore'))]),\n",
       "                                                  <sklearn.compose._column_transformer.make_column_selector object at 0x0000018212D2DE80>)])),\n",
       "                ('rfe',\n",
       "                 RFE(estimator=LogisticRegression(), n_features_to_select=18))])"
      ]
     },
     "execution_count": 6,
     "metadata": {},
     "output_type": "execute_result"
    }
   ],
   "source": [
    "value1[1][0]"
   ]
  },
  {
   "cell_type": "code",
   "execution_count": 9,
   "id": "c40be413",
   "metadata": {},
   "outputs": [
    {
     "name": "stdout",
     "output_type": "stream",
     "text": [
      "[]\n",
      "Searching for solution ...\n",
      "domain is not matched\n",
      "purpose is not matched\n",
      "Little knoweldge, start to learn knowledge to expore the solution\n"
     ]
    },
    {
     "name": "stderr",
     "output_type": "stream",
     "text": [
      "Setting `pad_token_id` to `eos_token_id`:50256 for open-end generation.\n"
     ]
    },
    {
     "name": "stdout",
     "output_type": "stream",
     "text": [
      "Successfully imported text_generation_pipeline microservice.\n",
      "******** A single service find to complete the task\n",
      "############Composition sucessfully complete##############\n",
      "A solution is created to fully serves the task and match the purpose, see knowledge files for more detail.\n",
      "here is the output: basketball League - 1st Round\n",
      "\n",
      "1. San Diego Sockers / San Diego Socks\n",
      "After being eliminated in the First Round, San Diego Sockers would qualify for the second round. It would be San Diego Socks' first tournament in league history.\n",
      "\n",
      "2. Oklahoma City Stingers / Oklahoma City Stingers\n",
      "After being eliminated in the First Round, Oklahoma City Socks would qualify for the second round. It would be the Stingers first tournament in league history.\n",
      "Enter your reward: (0 - 1, e.g. 0.2, 0.3 or 0.9)0.6\n"
     ]
    }
   ],
   "source": [
    "ai.output_memery={}\n",
    "ai.servicelist=[]\n",
    "value2=ai.OperatingTask ('task5','text.txt',['txt'],'','','Text_generation')"
   ]
  },
  {
   "cell_type": "code",
   "execution_count": 8,
   "id": "cf5f1eb3",
   "metadata": {},
   "outputs": [
    {
     "name": "stdout",
     "output_type": "stream",
     "text": [
      "[]\n",
      "Searching for solution ...\n",
      "No output context has been find\n",
      "domain is not matched\n",
      "purpose is not matched\n",
      "No kwnoeldge at all, start to learn knowledge and expore the solution\n",
      "Successfully imported image_classification_transformer microservice.\n"
     ]
    },
    {
     "name": "stderr",
     "output_type": "stream",
     "text": [
      "C:\\Users\\301054\\Anaconda3\\envs\\AIMicroServices\\lib\\site-packages\\transformers\\feature_extraction_utils.py:158: UserWarning: Creating a tensor from a list of numpy.ndarrays is extremely slow. Please consider converting the list to a single numpy.ndarray with numpy.array() before converting to a tensor. (Triggered internally at  C:\\cb\\pytorch_1000000000000\\work\\torch\\csrc\\utils\\tensor_new.cpp:210.)\n",
      "  tensor = as_tensor(value)\n"
     ]
    },
    {
     "name": "stdout",
     "output_type": "stream",
     "text": [
      "******** A single service find to complete the task\n",
      "############Composition sucessfully complete##############\n",
      "A solution is created but purpose is not meet, see knowledge files for more detail.\n",
      "here is the output: basketball\n",
      "Enter your reward: (0 - 1, e.g. 0.2, 0.3 or 0.9)1\n"
     ]
    },
    {
     "data": {
      "text/plain": [
       "'basketball'"
      ]
     },
     "execution_count": 8,
     "metadata": {},
     "output_type": "execute_result"
    }
   ],
   "source": [
    "ai.output_memery={}\n",
    "ai.servicelist=[]\n",
    "value3=ai.OperatingTask ('task5','image.jpeg',['label'],'','','CV_imageclassification')\n",
    "value3[0]"
   ]
  },
  {
   "cell_type": "code",
   "execution_count": 7,
   "id": "94f563ab",
   "metadata": {},
   "outputs": [
    {
     "name": "stdout",
     "output_type": "stream",
     "text": [
      "[]\n",
      "Searching for solution ...\n",
      "No output context has been find\n",
      "domain is not matched\n",
      "purpose is not matched\n",
      "No kwnoeldge at all, start to learn knowledge and expore the solution\n",
      "No microservice has been find\n",
      "############No single microservice is available, Composition start##############\n",
      "------------In while-----------\n",
      "Successfully imported image_classification_transformer microservice.\n"
     ]
    },
    {
     "name": "stderr",
     "output_type": "stream",
     "text": [
      "C:\\Users\\301054\\Anaconda3\\envs\\AIMicroServices\\lib\\site-packages\\transformers\\feature_extraction_utils.py:158: UserWarning: Creating a tensor from a list of numpy.ndarrays is extremely slow. Please consider converting the list to a single numpy.ndarray with numpy.array() before converting to a tensor. (Triggered internally at  C:\\cb\\pytorch_1000000000000\\work\\torch\\csrc\\utils\\tensor_new.cpp:210.)\n",
      "  tensor = as_tensor(value)\n"
     ]
    },
    {
     "name": "stdout",
     "output_type": "stream",
     "text": [
      "No output find\n",
      "Successfully imported text_generation_pipeline microservice.\n"
     ]
    },
    {
     "name": "stderr",
     "output_type": "stream",
     "text": [
      "Setting `pad_token_id` to `eos_token_id`:50256 for open-end generation.\n"
     ]
    },
    {
     "name": "stdout",
     "output_type": "stream",
     "text": [
      "-------end while-------\n",
      "############Composition sucessfully complete##############\n",
      "A solution is created but purpose is not meet, see knowledge files for more detail.\n",
      "here is the output: basketball League\n",
      "\n",
      "The Basketball League (, BL) is the league governing body for the professional basketball on the island of Vanuatu.\n",
      "\n",
      "The current president is Jean-Jacques Nkuna and the current general secretary is Sio Vanuatu.\n",
      "\n",
      "The BL is responsible for the Vanuatu Qualifying Tournament for the International Basketball Federation (FIBA) to determine the first professional team to represent the African continent in international tournaments. The BL also provides the main sponsorship and assistance\n",
      "Enter your reward: (0 - 1, e.g. 0.2, 0.3 or 0.9)0.7\n"
     ]
    }
   ],
   "source": [
    "ai.output_memery={}\n",
    "ai.servicelist=[]\n",
    "value4=ai.OperatingTask ('task3','image.jpeg',['txt'],'','','NLP_textgeneration')"
   ]
  },
  {
   "cell_type": "code",
   "execution_count": null,
   "id": "c811d4c8",
   "metadata": {},
   "outputs": [],
   "source": []
  }
 ],
 "metadata": {
  "kernelspec": {
   "display_name": "Python 3 (ipykernel)",
   "language": "python",
   "name": "python3"
  },
  "language_info": {
   "codemirror_mode": {
    "name": "ipython",
    "version": 3
   },
   "file_extension": ".py",
   "mimetype": "text/x-python",
   "name": "python",
   "nbconvert_exporter": "python",
   "pygments_lexer": "ipython3",
   "version": "3.8.12"
  }
 },
 "nbformat": 4,
 "nbformat_minor": 5
}
